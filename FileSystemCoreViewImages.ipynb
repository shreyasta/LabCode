{
 "cells": [
  {
   "cell_type": "code",
   "execution_count": 2,
   "metadata": {},
   "outputs": [],
   "source": [
    "import cv2\n",
    "import glob\n",
    "\n",
    "imread =  [cv2.imread(file) for file in glob.glob('C:\\\\Users\\\\OSlab-local-admin\\\\Documents\\\\ImgFilesDemo')  ]"
   ]
  },
  {
   "cell_type": "code",
   "execution_count": 5,
   "metadata": {},
   "outputs": [
    {
     "name": "stdout",
     "output_type": "stream",
     "text": [
      ".\n",
      "['.ipynb_checkpoints']\n",
      "['Factorial.ipynb', 'functionalcode.ipynb', 'FunctionExamples.ipynb', 'IOIvideoDisplayFiles.ipynb', 'Lena.jpg', 'MatFile.ipynb', 'one.ipynb', 'OpenCVEgs.ipynb', 'Sample.txt', 'two.ipynb', 'Untitled.ipynb']\n",
      ".\\.ipynb_checkpoints\n",
      "[]\n",
      "['Factorial-checkpoint.ipynb', 'functionalcode-checkpoint.ipynb', 'FunctionExamples-checkpoint.ipynb', 'IOIvideoDisplayFiles-checkpoint.ipynb', 'MatFile-checkpoint.ipynb', 'one-checkpoint.ipynb', 'OpenCVEgs-checkpoint.ipynb', 'two-checkpoint.ipynb', 'Untitled-checkpoint.ipynb']\n"
     ]
    }
   ],
   "source": [
    "import os\n",
    "\n",
    "path = 'C:\\\\Users\\\\OSlab-local-admin\\\\Documents\\\\ImgFilesDemo'\n",
    "for files in os.walk(\".\"):  \n",
    "    for path in files:\n",
    "        print(path)"
   ]
  },
  {
   "cell_type": "code",
   "execution_count": 11,
   "metadata": {},
   "outputs": [
    {
     "name": "stdout",
     "output_type": "stream",
     "text": [
      "CoreView_1_Cam_1_00001.bmp\n",
      "CoreView_1_Cam_1_00002.bmp\n",
      "CoreView_1_Cam_1_00003.bmp\n",
      "CoreView_1_Cam_1_00004.bmp\n",
      "CoreView_1_Cam_1_00005.bmp\n",
      "CoreView_1_Cam_1_00006.bmp\n",
      "CoreView_1_Cam_1_00007.bmp\n",
      "CoreView_1_Cam_1_00008.bmp\n",
      "CoreView_1_Cam_1_00009.bmp\n",
      "CoreView_1_Cam_1_00010.bmp\n"
     ]
    }
   ],
   "source": [
    "import os, fnmatch\n",
    "os.chdir('C:\\\\Users\\\\OSlab-local-admin\\\\Documents\\\\ImgFilesDemo')\n",
    "listOfFiles = os.listdir('.')  \n",
    "pattern = \"*.bmp\"  \n",
    "for entry in listOfFiles:  \n",
    "    if fnmatch.fnmatch(entry, pattern):\n",
    "            print (entry)"
   ]
  },
  {
   "cell_type": "code",
   "execution_count": null,
   "metadata": {},
   "outputs": [],
   "source": []
  },
  {
   "cell_type": "code",
   "execution_count": null,
   "metadata": {},
   "outputs": [],
   "source": []
  }
 ],
 "metadata": {
  "kernelspec": {
   "display_name": "Python 3",
   "language": "python",
   "name": "python3"
  },
  "language_info": {
   "codemirror_mode": {
    "name": "ipython",
    "version": 3
   },
   "file_extension": ".py",
   "mimetype": "text/x-python",
   "name": "python",
   "nbconvert_exporter": "python",
   "pygments_lexer": "ipython3",
   "version": "3.6.5"
  }
 },
 "nbformat": 4,
 "nbformat_minor": 2
}

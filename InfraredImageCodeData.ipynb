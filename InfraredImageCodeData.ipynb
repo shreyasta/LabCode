{
 "cells": [
  {
   "cell_type": "code",
   "execution_count": 1,
   "metadata": {},
   "outputs": [
    {
     "name": "stdout",
     "output_type": "stream",
     "text": [
      "[[0.04252938 0.04196978 0.04252938 ... 0.01063234 0.01454952 0.01678791]\n",
      " [0.04029099 0.04252938 0.04196978 ... 0.         0.00447678 0.01175154]\n",
      " [0.03973139 0.03637381 0.03693341 ... 0.00335758 0.01007275 0.00727476]\n",
      " ...\n",
      " [0.04141018 0.04252938 0.03637381 ... 0.03021824 0.02518187 0.02797985]\n",
      " [0.04196978 0.0391718  0.03077784 ... 0.02462227 0.02350308 0.02853945]\n",
      " [0.05092334 0.04644656 0.04364857 ... 0.02909905 0.03189703 0.02853945]]\n"
     ]
    },
    {
     "data": {
      "text/plain": [
       "27"
      ]
     },
     "execution_count": 1,
     "metadata": {},
     "output_type": "execute_result"
    }
   ],
   "source": [
    "import os\n",
    "import re\n",
    "from scipy.io import loadmat\n",
    "import matplotlib.pyplot as plt\n",
    "import numpy as np\n",
    "import pandas as pd\n",
    "import cv2\n",
    "\n",
    "newfile = open(\"C:/IR Data/181127_155516/irdata_012.asc\", 'r')\n",
    "original = newfile.read()\n",
    "fd= original[206:]\n",
    "z = fd.split()\n",
    "#print(type(z))\n",
    "\n",
    "g = [ (float(x.replace(',','.'))) for x in z ]\n",
    "\n",
    "y = np.asarray(g)\n",
    "#print(y)\n",
    "#print(y.shape)\n",
    "\n",
    "d = y.reshape(512, 640)\n",
    "x = d[0].flatten()\n",
    "np.amin(x)\n",
    "np.amax(x)\n",
    "\n",
    "norm_image = cv2.normalize(d, None, alpha =np.amin(d), beta=np.amax(d), norm_type=cv2.NORM_MINMAX, dtype=cv2.CV_32F)\n",
    "minval = np.amin(d)\n",
    "maxval = np.amax(d)\n",
    "#print(np.amin(d))\n",
    "#print(np.amax(d))\n",
    "norm_image = (d - minval)/(maxval-minval)\n",
    "#print(norm_image)\n",
    "\n",
    "cv2.imshow(\"normed\", norm_image)\n",
    "print(norm_image)\n",
    "cv2.waitKey(0)\n"
   ]
  },
  {
   "cell_type": "code",
   "execution_count": 2,
   "metadata": {},
   "outputs": [
    {
     "name": "stdout",
     "output_type": "stream",
     "text": [
      "[[0.         0.         0.         ... 0.         0.         0.        ]\n",
      " [0.         0.02853945 0.03189703 ... 0.03525462 0.04364857 0.04644656]\n",
      " [0.         0.02853945 0.02350308 ... 0.03189703 0.03077784 0.0391718 ]\n",
      " ...\n",
      " [0.         0.01287073 0.00727476 ... 0.04141018 0.0391718  0.04308898]\n",
      " [0.         0.00727476 0.01007275 ... 0.04420817 0.03693341 0.03637381]\n",
      " [0.         0.01175154 0.00447678 ... 0.03749301 0.04196978 0.04252938]]\n"
     ]
    },
    {
     "data": {
      "text/plain": [
       "27"
      ]
     },
     "execution_count": 2,
     "metadata": {},
     "output_type": "execute_result"
    }
   ],
   "source": [
    "rows,cols = norm_image.shape\n",
    "\n",
    "M = cv2.getRotationMatrix2D( (cols/2, rows/2 ),180,1)\n",
    "\n",
    "dst = cv2.warpAffine(norm_image,M,(cols,rows))\n",
    "cv2.imshow(\"img\", dst)\n",
    "print(dst)\n",
    "cv2.waitKey(0)"
   ]
  },
  {
   "cell_type": "code",
   "execution_count": null,
   "metadata": {},
   "outputs": [],
   "source": [
    "#cv2.imwrite('smalldot1.png',dst)\n",
    "#cv2.imshow('', img.astype(np.uint8))"
   ]
  },
  {
   "cell_type": "code",
   "execution_count": null,
   "metadata": {},
   "outputs": [],
   "source": [
    "# cv2.imshow(\"dots\",dst)\n",
    "# cv2.waitKey(0)"
   ]
  },
  {
   "cell_type": "code",
   "execution_count": null,
   "metadata": {},
   "outputs": [],
   "source": [
    "cv2.imwrite('smalldot2.bmp',dst)\n",
    "cv2.imshow(\"dots2\",dst)\n",
    "cv2.waitKey(0)\n"
   ]
  },
  {
   "cell_type": "code",
   "execution_count": 2,
   "metadata": {},
   "outputs": [
    {
     "ename": "AttributeError",
     "evalue": "'NoneType' object has no attribute 'shape'",
     "output_type": "error",
     "traceback": [
      "\u001b[1;31m---------------------------------------------------------------------------\u001b[0m",
      "\u001b[1;31mAttributeError\u001b[0m                            Traceback (most recent call last)",
      "\u001b[1;32m<ipython-input-2-e5f52c88db4f>\u001b[0m in \u001b[0;36m<module>\u001b[1;34m()\u001b[0m\n\u001b[0;32m      6\u001b[0m \u001b[1;33m\u001b[0m\u001b[0m\n\u001b[0;32m      7\u001b[0m \u001b[1;31m# get dimensions of image\u001b[0m\u001b[1;33m\u001b[0m\u001b[1;33m\u001b[0m\u001b[0m\n\u001b[1;32m----> 8\u001b[1;33m \u001b[0mdimensions\u001b[0m \u001b[1;33m=\u001b[0m \u001b[0mimg\u001b[0m\u001b[1;33m.\u001b[0m\u001b[0mshape\u001b[0m\u001b[1;33m(\u001b[0m\u001b[1;33m)\u001b[0m\u001b[1;33m\u001b[0m\u001b[0m\n\u001b[0m\u001b[0;32m      9\u001b[0m \u001b[1;33m\u001b[0m\u001b[0m\n\u001b[0;32m     10\u001b[0m \u001b[1;31m# height, width, number of channels in image\u001b[0m\u001b[1;33m\u001b[0m\u001b[1;33m\u001b[0m\u001b[0m\n",
      "\u001b[1;31mAttributeError\u001b[0m: 'NoneType' object has no attribute 'shape'"
     ]
    }
   ],
   "source": [
    " \n",
    "import cv2\n",
    " \n",
    "# read image\n",
    "img = cv2.imread('smalldot2.bmp', cv2.IMREAD_UNCHANGED)\n",
    " \n",
    "# get dimensions of image\n",
    "dimensions = img.shape\n",
    " \n",
    "# height, width, number of channels in image\n",
    "#height = img.shape[0]\n",
    "#width = img.shape[1]\n",
    "#channels = img.shape[2]\n",
    " \n",
    "print('Image Dimension    : ',dimensions)\n",
    "#print('Image Height       : ',height)\n",
    "#print('Image Width        : ',width)\n",
    "#print('Number of Channels : ',channels)"
   ]
  },
  {
   "cell_type": "code",
   "execution_count": null,
   "metadata": {},
   "outputs": [],
   "source": []
  },
  {
   "cell_type": "code",
   "execution_count": null,
   "metadata": {},
   "outputs": [],
   "source": [
    "cv2.imshow(\"dots2\",dst)\n",
    "cv2.waitKey(0)"
   ]
  },
  {
   "cell_type": "code",
   "execution_count": null,
   "metadata": {},
   "outputs": [],
   "source": []
  }
 ],
 "metadata": {
  "kernelspec": {
   "display_name": "Python 3",
   "language": "python",
   "name": "python3"
  },
  "language_info": {
   "codemirror_mode": {
    "name": "ipython",
    "version": 3
   },
   "file_extension": ".py",
   "mimetype": "text/x-python",
   "name": "python",
   "nbconvert_exporter": "python",
   "pygments_lexer": "ipython3",
   "version": "3.6.5"
  }
 },
 "nbformat": 4,
 "nbformat_minor": 2
}

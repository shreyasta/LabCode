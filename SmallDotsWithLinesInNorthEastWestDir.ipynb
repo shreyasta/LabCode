{
 "cells": [
  {
   "cell_type": "code",
   "execution_count": 1,
   "metadata": {},
   "outputs": [],
   "source": [
    "import os\n",
    "\n",
    "#newfile = open(\"C:/IR Data/181127_135927_aicon_markers/irdata_450.asc\", 'r')\n",
    "newfile = open(\"C:/IR Data/181127_155220_small_circles_with_rect/irdata_018.asc\", 'r')\n",
    "original = newfile.read()\n",
    "#print(original)"
   ]
  },
  {
   "cell_type": "code",
   "execution_count": 2,
   "metadata": {
    "scrolled": true
   },
   "outputs": [
    {
     "name": "stdout",
     "output_type": "stream",
     "text": [
      "<class 'str'>\n"
     ]
    }
   ],
   "source": [
    "print(type(original))\n",
    "#values of all the temp data\n",
    "fd= original[206:]\n",
    "#print(fd)\n",
    "#print(type(fd))"
   ]
  },
  {
   "cell_type": "code",
   "execution_count": 3,
   "metadata": {},
   "outputs": [],
   "source": [
    "z = fd.split()\n",
    "#print(type(z))"
   ]
  },
  {
   "cell_type": "code",
   "execution_count": 4,
   "metadata": {},
   "outputs": [],
   "source": [
    "import re\n",
    "g = [  (float(x.replace(',','.'))) for x in z ]\n",
    "#print(type(g[0]))\n",
    "#print(g)\n"
   ]
  },
  {
   "cell_type": "code",
   "execution_count": 5,
   "metadata": {},
   "outputs": [],
   "source": [
    "from scipy.io import loadmat\n",
    "import matplotlib.pyplot as plt\n",
    "import numpy as np\n",
    "import pandas as pd\n",
    "import cv2\n",
    "\n",
    "y = np.asarray(g)\n",
    "#print(y)\n",
    "#print(y.shape)\n",
    "\n",
    "d = y.reshape(512,640)\n",
    "#print(d.shape)\n",
    "#print(type(d))"
   ]
  },
  {
   "cell_type": "code",
   "execution_count": 6,
   "metadata": {},
   "outputs": [
    {
     "name": "stdout",
     "output_type": "stream",
     "text": [
      "640\n",
      "24.38\n",
      "24.99\n"
     ]
    },
    {
     "data": {
      "text/plain": [
       "33.79"
      ]
     },
     "execution_count": 6,
     "metadata": {},
     "output_type": "execute_result"
    }
   ],
   "source": [
    "print(d[0].size)\n",
    "print(d[0][0])\n",
    "print(d[0][511])\n",
    "x = d[0].flatten()\n",
    "#print(x)\n",
    "np.amin(x)\n",
    "np.amax(x)"
   ]
  },
  {
   "cell_type": "code",
   "execution_count": 7,
   "metadata": {},
   "outputs": [
    {
     "name": "stdout",
     "output_type": "stream",
     "text": [
      "23.26\n",
      "49.12\n",
      "[[0.04331013 0.04601701 0.04331013 ... 0.05529776 0.05529776 0.05723125]\n",
      " [0.04756381 0.04331013 0.04601701 ... 0.05065739 0.05413766 0.05413766]\n",
      " [0.04485692 0.04176334 0.04060325 ... 0.04640371 0.05181748 0.05723125]\n",
      " ...\n",
      " [0.03325599 0.03016241 0.03054911 ... 0.02358855 0.02745553 0.02668213]\n",
      " [0.0317092  0.03054911 0.02861562 ... 0.02706883 0.02165507 0.02706883]\n",
      " [0.03828306 0.03480278 0.03402939 ... 0.0324826  0.02745553 0.02706883]]\n"
     ]
    }
   ],
   "source": [
    "norm_image = cv2.normalize(d, None, alpha =np.amin(d), beta=np.amax(d), norm_type=cv2.NORM_MINMAX, dtype=cv2.CV_32F)\n",
    "minval = np.amin(d)\n",
    "maxval = np.amax(d)\n",
    "print(np.amin(d))\n",
    "print(np.amax(d))\n",
    "norm_image = (d - minval)/(maxval-minval)\n",
    "print(norm_image)"
   ]
  },
  {
   "cell_type": "code",
   "execution_count": 8,
   "metadata": {},
   "outputs": [
    {
     "name": "stdout",
     "output_type": "stream",
     "text": [
      "[[0.04331013 0.04601701 0.04331013 ... 0.05529776 0.05529776 0.05723125]\n",
      " [0.04756381 0.04331013 0.04601701 ... 0.05065739 0.05413766 0.05413766]\n",
      " [0.04485692 0.04176334 0.04060325 ... 0.04640371 0.05181748 0.05723125]\n",
      " ...\n",
      " [0.03325599 0.03016241 0.03054911 ... 0.02358855 0.02745553 0.02668213]\n",
      " [0.0317092  0.03054911 0.02861562 ... 0.02706883 0.02165507 0.02706883]\n",
      " [0.03828306 0.03480278 0.03402939 ... 0.0324826  0.02745553 0.02706883]]\n"
     ]
    },
    {
     "data": {
      "text/plain": [
       "13"
      ]
     },
     "execution_count": 8,
     "metadata": {},
     "output_type": "execute_result"
    }
   ],
   "source": [
    "                                      \n",
    "cv2.imshow(\"normed\", norm_image)\n",
    "print(norm_image)\n",
    "cv2.waitKey(0)"
   ]
  },
  {
   "cell_type": "code",
   "execution_count": 9,
   "metadata": {},
   "outputs": [
    {
     "data": {
      "text/plain": [
       "13"
      ]
     },
     "execution_count": 9,
     "metadata": {},
     "output_type": "execute_result"
    }
   ],
   "source": [
    "rows,cols = norm_image.shape\n",
    "\n",
    "M = cv2.getRotationMatrix2D( (cols/2, rows/2.5 ),270,1)\n",
    "\n",
    "dst = cv2.warpAffine(norm_image,M,(cols,rows))\n",
    "\n",
    "# cv2.namedWindow(\"output\", cv2.WINDOW_NORMAL)        # Create window with freedom of dimensions                \n",
    "#imS = cv2.resize(dst, (1536, 1280))                    # Resize image\n",
    "cv2.imshow(\"img\", dst)\n",
    "cv2.waitKey(0)"
   ]
  },
  {
   "cell_type": "code",
   "execution_count": 10,
   "metadata": {},
   "outputs": [
    {
     "data": {
      "text/plain": [
       "True"
      ]
     },
     "execution_count": 10,
     "metadata": {},
     "output_type": "execute_result"
    }
   ],
   "source": [
    "\n",
    "\n",
    "cv2.imwrite('new7.bmp',dst*255)\n",
    "\n"
   ]
  },
  {
   "cell_type": "code",
   "execution_count": 11,
   "metadata": {},
   "outputs": [
    {
     "data": {
      "text/plain": [
       "13"
      ]
     },
     "execution_count": 11,
     "metadata": {},
     "output_type": "execute_result"
    }
   ],
   "source": [
    "cv2.imshow(\"bmp\", dst)\n",
    "cv2.waitKey(0)\n"
   ]
  },
  {
   "cell_type": "code",
   "execution_count": 12,
   "metadata": {},
   "outputs": [
    {
     "name": "stdout",
     "output_type": "stream",
     "text": [
      "(512, 640)\n"
     ]
    }
   ],
   "source": [
    "print(norm_image.shape)"
   ]
  },
  {
   "cell_type": "code",
   "execution_count": null,
   "metadata": {},
   "outputs": [],
   "source": [
    "# imcp = norm_image.copy()\n",
    "# imcp.shape\n",
    "# imcp = cv2.resize(imcp,None, fx=2, fy=3)\n",
    "# imcp.shape\n",
    "# print(imcp.shape)"
   ]
  },
  {
   "cell_type": "code",
   "execution_count": null,
   "metadata": {},
   "outputs": [],
   "source": []
  },
  {
   "cell_type": "code",
   "execution_count": null,
   "metadata": {},
   "outputs": [],
   "source": []
  },
  {
   "cell_type": "code",
   "execution_count": null,
   "metadata": {},
   "outputs": [],
   "source": []
  }
 ],
 "metadata": {
  "kernelspec": {
   "display_name": "Python 3",
   "language": "python",
   "name": "python3"
  },
  "language_info": {
   "codemirror_mode": {
    "name": "ipython",
    "version": 3
   },
   "file_extension": ".py",
   "mimetype": "text/x-python",
   "name": "python",
   "nbconvert_exporter": "python",
   "pygments_lexer": "ipython3",
   "version": "3.6.5"
  }
 },
 "nbformat": 4,
 "nbformat_minor": 2
}

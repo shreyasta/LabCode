{
 "cells": [
  {
   "cell_type": "code",
   "execution_count": 1,
   "metadata": {},
   "outputs": [],
   "source": [
    "import cv2\n",
    "im_left = cv2.imread('C:\\\\TestProject\\\\left01.jpg')\n",
    "im_right = cv2.imread('C:\\\\TestProject\\\\right01.jpg')  # change file paths"
   ]
  },
  {
   "cell_type": "code",
   "execution_count": 7,
   "metadata": {},
   "outputs": [
    {
     "ename": "AttributeError",
     "evalue": "'NoneType' object has no attribute 'shape'",
     "output_type": "error",
     "traceback": [
      "\u001b[1;31m---------------------------------------------------------------------------\u001b[0m",
      "\u001b[1;31mAttributeError\u001b[0m                            Traceback (most recent call last)",
      "\u001b[1;32m<ipython-input-7-b08b756bdee3>\u001b[0m in \u001b[0;36m<module>\u001b[1;34m\u001b[0m\n\u001b[1;32m----> 1\u001b[1;33m \u001b[0mprint\u001b[0m \u001b[1;33m(\u001b[0m\u001b[0mim_left\u001b[0m\u001b[1;33m.\u001b[0m\u001b[0mshape\u001b[0m\u001b[1;33m)\u001b[0m\u001b[1;33m\u001b[0m\u001b[0m\n\u001b[0m\u001b[0;32m      2\u001b[0m \u001b[0mprint\u001b[0m \u001b[1;33m(\u001b[0m\u001b[0mim_right\u001b[0m\u001b[1;33m.\u001b[0m\u001b[0mshape\u001b[0m\u001b[1;33m)\u001b[0m\u001b[1;33m\u001b[0m\u001b[0m\n",
      "\u001b[1;31mAttributeError\u001b[0m: 'NoneType' object has no attribute 'shape'"
     ]
    }
   ],
   "source": [
    "print (im_left.shape)\n",
    "print (im_right.shape)"
   ]
  },
  {
   "cell_type": "code",
   "execution_count": null,
   "metadata": {},
   "outputs": [],
   "source": [
    "from matplotlib import pyplot as plt\n",
    "\n",
    "plt.subplot(121)\n",
    "plt.imshow(im_left[...,::-1])\n",
    "plt.subplot(122)\n",
    "plt.imshow(im_right[...,::-1])\n",
    "plt.show()"
   ]
  },
  {
   "cell_type": "code",
   "execution_count": null,
   "metadata": {},
   "outputs": [],
   "source": [
    "ret, corners = cv2.findChessboardCorners(im_left, (7,6))"
   ]
  },
  {
   "cell_type": "code",
   "execution_count": null,
   "metadata": {},
   "outputs": [],
   "source": [
    "print (corners.shape)"
   ]
  },
  {
   "cell_type": "code",
   "execution_count": null,
   "metadata": {},
   "outputs": [],
   "source": [
    "print (corners[0])"
   ]
  },
  {
   "cell_type": "code",
   "execution_count": null,
   "metadata": {},
   "outputs": [],
   "source": [
    "corners=corners.reshape(-1,2)\n",
    "print (corners.shape)\n",
    "print (corners[0])"
   ]
  },
  {
   "cell_type": "code",
   "execution_count": null,
   "metadata": {},
   "outputs": [],
   "source": [
    "im_left_vis=im_left.copy()\n",
    "cv2.drawChessboardCorners(im_left_vis, (7,6), corners, ret) \n",
    "plt.imshow(im_left_vis)\n",
    "plt.show()"
   ]
  },
  {
   "cell_type": "code",
   "execution_count": null,
   "metadata": {},
   "outputs": [],
   "source": [
    "import cv2\n",
    "import numpy as np\n",
    "from glob import glob\n",
    "\n",
    "\n",
    "x,y=np.meshgrid(range(7),range(6))\n",
    "print (\"x:\\n\",x)\n",
    "print (\"y:\\n\",y)\n",
    "\n",
    "world_points=np.hstack((x.reshape(42,1),y.reshape(42,1),np.zeros((42,1)))).astype(np.float32)\n",
    "print (world_points)"
   ]
  },
  {
   "cell_type": "code",
   "execution_count": null,
   "metadata": {},
   "outputs": [],
   "source": [
    "print (corners[0],'->',world_points[0])\n",
    "print (corners[35],'->',world_points[35])"
   ]
  },
  {
   "cell_type": "code",
   "execution_count": 3,
   "metadata": {},
   "outputs": [],
   "source": [
    "from glob import glob\n",
    "\n",
    "_3d_points=[]\n",
    "_2d_points=[]\n",
    "\n",
    "img_paths=glob('C:\\\\TestProject\\\\*.jpg') #get paths of all all images in a list form \n",
    "for path in img_paths:\n",
    "    im=cv2.imread(path)\n",
    "    gray = cv2.cvtColor(im,cv2.COLOR_BGR2GRAY)\n",
    "    ret, corners = cv2.findChessboardCorners(gray, (7,6))\n",
    "    \n",
    "    if ret: #add points only if checkerboard was correctly detected:\n",
    "        _2d_points.append(corners) #append current 2D points\n",
    "        _3d_points.append(world_points) #3D points are always the same\n",
    "        \n",
    "          \n",
    "        "
   ]
  },
  {
   "cell_type": "code",
   "execution_count": 4,
   "metadata": {},
   "outputs": [
    {
     "name": "stdout",
     "output_type": "stream",
     "text": [
      "[]\n",
      "\n",
      " []\n",
      "3d points \n",
      " []\n"
     ]
    }
   ],
   "source": [
    "print(img_paths)\n",
    "print(\"\\n\",_2d_points)\n",
    "\n",
    "print(\"3d points \\n\",_3d_points)\n"
   ]
  },
  {
   "cell_type": "code",
   "execution_count": 5,
   "metadata": {},
   "outputs": [
    {
     "ename": "NameError",
     "evalue": "name 'im' is not defined",
     "output_type": "error",
     "traceback": [
      "\u001b[1;31m---------------------------------------------------------------------------\u001b[0m",
      "\u001b[1;31mNameError\u001b[0m                                 Traceback (most recent call last)",
      "\u001b[1;32m<ipython-input-5-b0cd9e77aaf8>\u001b[0m in \u001b[0;36m<module>\u001b[1;34m\u001b[0m\n\u001b[0;32m      1\u001b[0m \u001b[1;31m#ret,mtx, dist, rvecs, tvecs = cv2.calibrateCamera(_3d_points, _2d_points,(im.shape[1],im.shape[0]))\u001b[0m\u001b[1;33m\u001b[0m\u001b[1;33m\u001b[0m\u001b[0m\n\u001b[1;32m----> 2\u001b[1;33m \u001b[0mret\u001b[0m\u001b[1;33m,\u001b[0m \u001b[0mmtx\u001b[0m\u001b[1;33m,\u001b[0m \u001b[0mdist\u001b[0m\u001b[1;33m,\u001b[0m \u001b[0mrvecs\u001b[0m\u001b[1;33m,\u001b[0m \u001b[0mtvecs\u001b[0m \u001b[1;33m=\u001b[0m \u001b[0mcv2\u001b[0m\u001b[1;33m.\u001b[0m\u001b[0mcalibrateCamera\u001b[0m\u001b[1;33m(\u001b[0m\u001b[0m_3d_points\u001b[0m\u001b[1;33m,\u001b[0m \u001b[0m_2d_points\u001b[0m\u001b[1;33m,\u001b[0m \u001b[1;33m(\u001b[0m\u001b[0mim\u001b[0m\u001b[1;33m.\u001b[0m\u001b[0mshape\u001b[0m\u001b[1;33m[\u001b[0m\u001b[1;36m1\u001b[0m\u001b[1;33m]\u001b[0m\u001b[1;33m,\u001b[0m \u001b[0mim\u001b[0m\u001b[1;33m.\u001b[0m\u001b[0mshape\u001b[0m\u001b[1;33m[\u001b[0m\u001b[1;36m0\u001b[0m\u001b[1;33m]\u001b[0m\u001b[1;33m)\u001b[0m\u001b[1;33m,\u001b[0m \u001b[1;32mNone\u001b[0m\u001b[1;33m,\u001b[0m\u001b[1;32mNone\u001b[0m\u001b[1;33m)\u001b[0m\u001b[1;33m\u001b[0m\u001b[0m\n\u001b[0m\u001b[0;32m      3\u001b[0m \u001b[0mprint\u001b[0m \u001b[1;33m(\u001b[0m\u001b[1;34m\"Ret:\"\u001b[0m\u001b[1;33m,\u001b[0m\u001b[0mret\u001b[0m\u001b[1;33m)\u001b[0m\u001b[1;33m\u001b[0m\u001b[0m\n\u001b[0;32m      4\u001b[0m \u001b[0mprint\u001b[0m \u001b[1;33m(\u001b[0m\u001b[1;34m\"Mtx:\"\u001b[0m\u001b[1;33m,\u001b[0m\u001b[0mmtx\u001b[0m\u001b[1;33m,\u001b[0m\u001b[1;34m\" ----------------------------------> [\"\u001b[0m\u001b[1;33m,\u001b[0m\u001b[0mmtx\u001b[0m\u001b[1;33m.\u001b[0m\u001b[0mshape\u001b[0m\u001b[1;33m,\u001b[0m\u001b[1;34m\"]\"\u001b[0m\u001b[1;33m)\u001b[0m\u001b[1;33m\u001b[0m\u001b[0m\n\u001b[0;32m      5\u001b[0m \u001b[0mprint\u001b[0m \u001b[1;33m(\u001b[0m\u001b[1;34m\"Dist:\"\u001b[0m\u001b[1;33m,\u001b[0m\u001b[0mdist\u001b[0m\u001b[1;33m,\u001b[0m\u001b[1;34m\" ----------> [\"\u001b[0m\u001b[1;33m,\u001b[0m\u001b[0mdist\u001b[0m\u001b[1;33m.\u001b[0m\u001b[0mshape\u001b[0m\u001b[1;33m,\u001b[0m\u001b[1;34m\"]\"\u001b[0m\u001b[1;33m)\u001b[0m\u001b[1;33m\u001b[0m\u001b[0m\n",
      "\u001b[1;31mNameError\u001b[0m: name 'im' is not defined"
     ]
    }
   ],
   "source": [
    "#ret,mtx, dist, rvecs, tvecs = cv2.calibrateCamera(_3d_points, _2d_points,(im.shape[1],im.shape[0]))\n",
    "ret, mtx, dist, rvecs, tvecs = cv2.calibrateCamera(_3d_points, _2d_points, (im.shape[1], im.shape[0]), None,None)\n",
    "print (\"Ret:\",ret)\n",
    "print (\"Mtx:\",mtx,\" ----------------------------------> [\",mtx.shape,\"]\")\n",
    "print (\"Dist:\",dist,\" ----------> [\",dist.shape,\"]\")\n",
    "print (\"rvecs:\",rvecs,\" --------------------------------------------------------> [\",rvecs[0].shape,\"]\")\n",
    "print (\"tvecs:\",tvecs,\" -------------------------------------------------------> [\",tvecs[0].shape,\"]\")"
   ]
  },
  {
   "cell_type": "code",
   "execution_count": null,
   "metadata": {},
   "outputs": [],
   "source": [
    "all_right_corners=[]\n",
    "all_left_corners=[]\n",
    "all_3d_points=[]\n",
    "idx=[1, 3, 6, 12] #we use only some image pairs\n",
    "valid_idxs=[] #we will also keep an list of valid indices, i.e., indices for which the procedure succeeded\n",
    "flags = cv2.CALIB_FIX_INTRINSIC\n",
    "for i in idx:\n",
    "    im_left=cv2.imread(\"C:\\\\TestProject\\\\left%02d.jpg\"%i) #load left and right images \n",
    "    im_right=cv2.imread(\"C:\\\\TestProject\\\\right%02d.jpg\"%i)\n",
    "    \n",
    "    ret_left,left_corners=cv2.findChessboardCorners(im_left,(7,6))\n",
    "    ret_right,right_corners=cv2.findChessboardCorners(im_right,(7,6))\n",
    "    \n",
    "    \n",
    "    if ret_left and ret_right: #if both extraction succeeded\n",
    "        valid_idxs.append(i)\n",
    "        all_right_corners.append(right_corners)\n",
    "        all_left_corners.append(left_corners)\n",
    "        all_3d_points.append(world_points)\n"
   ]
  },
  {
   "cell_type": "code",
   "execution_count": null,
   "metadata": {},
   "outputs": [],
   "source": [
    "import numpy as np\n",
    "import cv2\n",
    "import glob\n",
    "\n",
    "imgpoints_l = [] #2d points in left\n",
    "imgpoints_r = [] #2d points in right\n",
    "objpoints = []  #3d points \n",
    "\n",
    "idx=[1, 3, 6, 12] #we use only some image pairs\n",
    "valid_idxs=[] #we will also keep an list of valid indices, i.e., indices for which the procedure succeeded\n",
    "\n",
    "\n",
    "class StereoCalibration(object):\n",
    "    def __init__(self, filepath):\n",
    "        # termination criteria\n",
    "        self.criteria = (cv2.TERM_CRITERIA_EPS +\n",
    "                         cv2.TERM_CRITERIA_MAX_ITER, 30, 0.001)\n",
    "        self.criteria_cal = (cv2.TERM_CRITERIA_EPS +\n",
    "                             cv2.TERM_CRITERIA_MAX_ITER, 100, 1e-5)\n",
    "\n",
    "        # prepare object points, like (0,0,0), (1,0,0), (2,0,0) ....,(6,5,0)\n",
    "        self.objp = np.zeros((9*6, 3), np.float32)\n",
    "        self.objp[:, :2] = np.mgrid[0:9, 0:6].T.reshape(-1, 2)\n",
    "\n",
    "        # Arrays to store object points and image points from all the images.\n",
    "        self.objpoints = []  # 3d point in real world space\n",
    "        self.imgpoints_l = []  # 2d points in image plane.\n",
    "        self.imgpoints_r = []  # 2d points in image plane.\n",
    "\n",
    "        self.cal_path = filepath\n",
    "        self.read_images(self.cal_path)\n",
    " \n",
    "\n",
    "\n",
    "\n",
    "    def read_images(self, cal_path):\n",
    "        images_right = glob.glob(\"C:\\\\TestProject\\\\right*%02d.jpg\"%i)\n",
    "        images_left = glob.glob(\"C:\\\\TestProject\\\\left*%02d.jpg\"%i)\n",
    "        images_left.sort()\n",
    "        images_right.sort()\n",
    "\n",
    "        for i, fname in enumerate(images_right):\n",
    "            img_l = cv2.imread(images_left[i])\n",
    "            img_r = cv2.imread(images_right[i])\n",
    "\n",
    "            gray_l = cv2.cvtColor(img_l, cv2.COLOR_BGR2GRAY)\n",
    "            gray_r = cv2.cvtColor(img_r, cv2.COLOR_BGR2GRAY)\n",
    "\n",
    "            # Find the chess board corners\n",
    "            ret_l, corners_l = cv2.findChessboardCorners(gray_l, (9, 6), None)\n",
    "            ret_r, corners_r = cv2.findChessboardCorners(gray_r, (9, 6), None)\n",
    "\n",
    "            # If found, add object points, image points (after refining them)\n",
    "            self.objpoints.append(self.objp)\n"
   ]
  },
  {
   "cell_type": "code",
   "execution_count": 115,
   "metadata": {},
   "outputs": [
    {
     "name": "stdout",
     "output_type": "stream",
     "text": [
      "['C:\\\\TestProject\\\\right01.jpg', 'C:\\\\TestProject\\\\right03.jpg', 'C:\\\\TestProject\\\\right04.jpg', 'C:\\\\TestProject\\\\right06.jpg', 'C:\\\\TestProject\\\\right07.jpg', 'C:\\\\TestProject\\\\right08.jpg', 'C:\\\\TestProject\\\\right09.jpg', 'C:\\\\TestProject\\\\right12.jpg']\n",
      "['C:\\\\TestProject\\\\left01.jpg', 'C:\\\\TestProject\\\\left02.jpg', 'C:\\\\TestProject\\\\left03.jpg', 'C:\\\\TestProject\\\\left04.jpg', 'C:\\\\TestProject\\\\left05.jpg', 'C:\\\\TestProject\\\\left06.jpg', 'C:\\\\TestProject\\\\left07.jpg', 'C:\\\\TestProject\\\\left08.jpg', 'C:\\\\TestProject\\\\left09.jpg', 'C:\\\\TestProject\\\\left11.jpg', 'C:\\\\TestProject\\\\left12.jpg']\n"
     ]
    }
   ],
   "source": [
    "#present code, my code modified\n",
    "\n",
    "import cv2\n",
    "import numpy as np\n",
    "from glob import glob\n",
    "\n",
    "images_right = glob('C:\\\\TestProject\\\\right*.jpg') \n",
    "print(images_right)  \n",
    "images_left = glob(\"C:\\\\TestProject\\\\left*.jpg\")\n",
    "print(images_left) \n",
    "\n",
    "objp = np.zeros((9*6, 3), np.float32)\n",
    "objp[:, :2] = np.mgrid[0:9, 0:6].T.reshape(-1, 2)\n",
    "\n",
    "criteria = (cv2.TERM_CRITERIA_EPS + cv2.TERM_CRITERIA_MAX_ITER, 30, 0.001)\n",
    "criteria_cal = (cv2.TERM_CRITERIA_EPS + cv2.TERM_CRITERIA_MAX_ITER, 100, 1e-5)\n",
    "objpoints = [] # 3d point in real world space\n",
    "imgpoints_l = []  # 2d points in image plane in left\n",
    "imgpoints_r = []  # 2d points in image plane in right\n",
    "\n",
    "\n",
    "for i, path_r in enumerate(images_right):\n",
    "    img_r = cv2.imread(images_right[i])\n",
    "    gray_r = cv2.cvtColor(img_r,cv2.COLOR_BGR2GRAY)\n",
    "    ret_r, corners_r = cv2.findChessboardCorners(gray_r, (9, 6), None)\n",
    "\n",
    "for i, path_l in enumerate(images_left):\n",
    "    img_l=cv2.imread(images_left[i])\n",
    "    gray_l = cv2.cvtColor(img_l,cv2.COLOR_BGR2GRAY)\n",
    "    ret_l, corners_l = cv2.findChessboardCorners(gray_l, (9, 6), None)    \n",
    "    \n",
    "    objpoints.append(objp)\n",
    "   \n",
    "\n",
    "\n",
    "    if ret_l is True:\n",
    "        rt = cv2.cornerSubPix(gray_l, corners_l, (11, 11), (-1, -1), criteria)\n",
    "        imgpoints_l.append(corners_l)\n",
    "\n",
    "        # Draw and display the corners\n",
    "        ret_l = cv2.drawChessboardCorners(img_l, (9, 6), corners_l, ret_l)\n",
    "        cv2.imshow(images_left[i], img_l)\n",
    "        cv2.waitKey(500)\n",
    "\n",
    "\n",
    "    if ret_r is True:\n",
    "        rt = cv2.cornerSubPix(gray_r, corners_r, (11,11), (-1,-1), criteria)\n",
    "        imgpoints_r.append(corners_r)\n",
    "        \n",
    "        # Draw and display the corners\n",
    "        ret_r = cv2.drawChessboardCorners(img_r, (9, 6), corners_r, ret_r)\n",
    "        cv2.imshow(images_right[i], img_r)\n",
    "        cv2.waitKey(500)\n",
    "\n",
    "    \n",
    "\n",
    "#print(\"corner r \\n:\", corners_r)\n",
    "#print(\"\\n corner l \\n:\", corners_l)"
   ]
  },
  {
   "cell_type": "code",
   "execution_count": null,
   "metadata": {},
   "outputs": [],
   "source": []
  },
  {
   "cell_type": "code",
   "execution_count": null,
   "metadata": {},
   "outputs": [],
   "source": [
    "#print (len(all_right_corners))\n",
    "#print (len(all_left_corners))\n",
    "#print (len(all_3d_points))\n",
    "\n",
    "#print ((all_right_corners))\n",
    "#print (all_left_corners[0].shape)\n",
    "#print (all_3d_points[0].shape)\n",
    "\n",
    "#print (all_right_corners[0].reshape(-1,2)[0])\n",
    "#print(all_3d_points)\n",
    "img_size = (im.shape[1], im.shape[0])\n",
    "print(img_size)\n",
    "print(tuple(mtx))"
   ]
  },
  {
   "cell_type": "code",
   "execution_count": null,
   "metadata": {},
   "outputs": [],
   "source": [
    "stereocalib_criteria = (cv2.TERM_CRITERIA_MAX_ITER + cv2.TERM_CRITERIA_EPS, 100, 1e-5)\n",
    "stereocalib_flags = cv2.CALIB_FIX_ASPECT_RATIO | cv2.CALIB_ZERO_TANGENT_DIST | cv2.CALIB_SAME_FOCAL_LENGTH | cv2.CALIB_RATIONAL_MODEL | cv2.CALIB_FIX_K3 | cv2.CALIB_FIX_K4 | cv2.CALIB_FIX_K5\n",
    "stereocalib_retval, cameraMatrix1, distCoeffs1, cameraMatrix2, distCoeffs2, R, T, E, F = cv2.stereoCalibrate(all_3d_points, all_left_corners, all_right_corners, img_size, flags = stereocalib_flags, citeria = stereocalib_criteria)\n",
    "\n",
    "#retval, _, _, _, _, R, T, E, F=cv2.stereoCalibrate(all_3d_points,  all_left_corners, all_right_corners,(im.shape[1], im.shape[0]), mtx,dist,mtx,dist,flags=cv2.cv.CALIB_FIX_INTRINSIC)"
   ]
  },
  {
   "cell_type": "code",
   "execution_count": null,
   "metadata": {},
   "outputs": [],
   "source": [
    "stereocalib_criteria = (cv2.TERM_CRITERIA_MAX_ITER + cv2.TERM_CRITERIA_EPS, 100, 1e-5)\n",
    "stereocalib_flags = cv2.CALIB_FIX_ASPECT_RATIO | cv2.CALIB_ZERO_TANGENT_DIST | cv2.CALIB_SAME_FOCAL_LENGTH | cv2.CALIB_RATIONAL_MODEL | cv2.CALIB_FIX_K3 | cv2.CALIB_FIX_K4 | cv2.CALIB_FIX_K5\n",
    "stereocalib_retval, cameraMatrix1, distCoeffs1, cameraMatrix2, distCoeffs2, R, T, E, F = cv2.stereoCalibrate(all_3d_points, all_left_corners, all_right_corners, img_size, tuple(mtx), dist, tuple(mtx), dist ,criteria = stereocalib_criteria, flags = stereocalib_flags)"
   ]
  },
  {
   "cell_type": "code",
   "execution_count": null,
   "metadata": {},
   "outputs": [],
   "source": [
    "stereocalib_criteria = (cv2.TERM_CRITERIA_MAX_ITER + cv2.TERM_CRITERIA_EPS, 100, 1e-5)\n",
    "stereocalib_flags = cv2.CALIB_FIX_ASPECT_RATIO | cv2.CALIB_ZERO_TANGENT_DIST | cv2.CALIB_SAME_FOCAL_LENGTH | cv2.CALIB_RATIONAL_MODEL | cv2.CALIB_FIX_K3 | cv2.CALIB_FIX_K4 | cv2.CALIB_FIX_K5\n",
    "retval, _, _, _, _, R, T, E, F=cv2.stereoCalibrate(all_3d_points,  all_left_corners, all_right_corners, (im.shape[1],im.shape[0]),mtx,dist, mtx,dist, criteria = stereocalib_criteria, flags= stereocalib_flags)"
   ]
  },
  {
   "cell_type": "code",
   "execution_count": null,
   "metadata": {},
   "outputs": [],
   "source": [
    "stereocalib_criteria = (cv2.TERM_CRITERIA_MAX_ITER + cv2.TERM_CRITERIA_EPS, 100, 1e-5)\n",
    "stereocalib_flags = cv2.CALIB_FIX_ASPECT_RATIO | cv2.CALIB_ZERO_TANGENT_DIST | cv2.CALIB_SAME_FOCAL_LENGTH | cv2.CALIB_RATIONAL_MODEL | cv2.CALIB_FIX_K3 | cv2.CALIB_FIX_K4 | cv2.CALIB_FIX_K5\n",
    "stereocalib_retval, cameraMatrix1, distCoeffs1, cameraMatrix2, distCoeffs2, R, T, E, F = cv2.stereoCalibrate(all_3d_points, all_left_corners, all_right_corners, img_size, mtx, \n",
    "                                                                                                             dist, mtx, dist,criteria = stereocalib_criteria, flags = stereocalib_flags)"
   ]
  },
  {
   "cell_type": "code",
   "execution_count": null,
   "metadata": {},
   "outputs": [],
   "source": [
    "from glob import glob\n",
    "\n",
    "_3d_points=[]\n",
    "_2d_points=[]\n",
    "\n",
    "img_paths=glob('C:\\\\TestProject\\\\*.jpg') #get paths of all all images\n",
    "for path in img_paths:\n",
    "    im=cv2.imread(path)\n",
    "    gray = cv2.cvtColor(im,cv2.COLOR_BGR2GRAY)\n",
    "    ret, corners = cv2.findChessboardCorners(gray, (7,6))\n",
    "    \n",
    "    if ret: #add points only if checkerboard was correctly detected:\n",
    "        _2d_points.append(corners) #append current 2D points\n",
    "        _3d_points.append(world_points) #3D points are always the same\n",
    "        \n",
    "        for i, fname in enumerate(images_right):\n",
    "            img_l = cv2.imread(images_left[i])\n",
    "            img_r = cv2.imread(images_right[i])\n",
    "\n",
    "            gray_l = cv2.cvtColor(img_l, cv2.COLOR_BGR2GRAY)\n",
    "            gray_r = cv2.cvtColor(img_r, cv2.COLOR_BGR2GRAY)\n",
    "        \n",
    "          # Find the chess board corners\n",
    "            ret_l, corners_l = cv2.findChessboardCorners(gray_l, (9, 6), None)\n",
    "            ret_r, corners_r = cv2.findChessboardCorners(gray_r, (9, 6), None)\n",
    "\n",
    "            \n",
    "        "
   ]
  },
  {
   "cell_type": "code",
   "execution_count": null,
   "metadata": {},
   "outputs": [],
   "source": [
    "   if ret_l is True:\n",
    "                rt = cv2.cornerSubPix(gray_l, corners_l, (11, 11),\n",
    "                                      (-1, -1), self.criteria)\n",
    "                self.imgpoints_l.append(corners_l)\n",
    "\n",
    "                # Draw and display the corners\n",
    "                ret_l = cv2.drawChessboardCorners(img_l, (9, 6),\n",
    "                                                  corners_l, ret_l)\n",
    "                cv2.imshow(images_left[i], img_l)\n",
    "                cv2.waitKey(500)\n",
    "\n",
    "            if ret_r is True:\n",
    "                rt = cv2.cornerSubPix(gray_r, corners_r, (11, 11),\n",
    "                                      (-1, -1), self.criteria)\n",
    "                self.imgpoints_r.append(corners_r)\n",
    "\n",
    "                # Draw and display the corners\n",
    "                ret_r = cv2.drawChessboardCorners(img_r, (9, 6),\n",
    "                                                  corners_r, ret_r)\n",
    "                cv2.imshow(images_right[i], img_r)\n",
    "                cv2.waitKey(500)\n",
    "            img_shape = gray_l.shape[::-1]\n",
    "\n",
    "        rt, self.M1, self.d1, self.r1, self.t1 = cv2.calibrateCamera(\n",
    "            self.objpoints, self.imgpoints_l, img_shape, None, None)\n",
    "        rt, self.M2, self.d2, self.r2, self.t2 = cv2.calibrateCamera(\n",
    "            self.objpoints, self.imgpoints_r, img_shape, None, None)\n",
    "\n",
    "        self.camera_model = self.stereo_calibrate(img_shape)\n",
    "\n",
    "    def stereo_calibrate(self, dims):\n",
    "        flags = 0\n",
    "        flags |= cv2.CALIB_FIX_INTRINSIC\n",
    "        # flags |= cv2.CALIB_FIX_PRINCIPAL_POINT\n",
    "        flags |= cv2.CALIB_USE_INTRINSIC_GUESS\n",
    "        flags |= cv2.CALIB_FIX_FOCAL_LENGTH\n",
    "        # flags |= cv2.CALIB_FIX_ASPECT_RATIO\n",
    "        flags |= cv2.CALIB_ZERO_TANGENT_DIST\n",
    "        # flags |= cv2.CALIB_RATIONAL_MODEL\n",
    "        # flags |= cv2.CALIB_SAME_FOCAL_LENGTH\n",
    "        # flags |= cv2.CALIB_FIX_K3\n",
    "        # flags |= cv2.CALIB_FIX_K4\n",
    "        # flags |= cv2.CALIB_FIX_K5\n",
    "\n",
    "        stereocalib_criteria = (cv2.TERM_CRITERIA_MAX_ITER +\n",
    "                                cv2.TERM_CRITERIA_EPS, 100, 1e-5)\n",
    "        ret, M1, d1, M2, d2, R, T, E, F = cv2.stereoCalibrate(\n",
    "            self.objpoints, self.imgpoints_l,\n",
    "            self.imgpoints_r, self.M1, self.d1, self.M2,\n",
    "            self.d2, dims,\n",
    "            criteria=stereocalib_criteria, flags=flags)\n",
    "\n",
    "        print('Intrinsic_mtx_1', M1)\n",
    "        print('dist_1', d1)\n",
    "        print('Intrinsic_mtx_2', M2)\n",
    "        print('dist_2', d2)\n",
    "        print('R', R)\n",
    "        print('T', T)\n",
    "        print('E', E)\n",
    "        print('F', F)\n",
    "\n",
    "        # for i in range(len(self.r1)):\n",
    "        #     print(\"--- pose[\", i+1, \"] ---\")\n",
    "        #     self.ext1, _ = cv2.Rodrigues(self.r1[i])\n",
    "        #     self.ext2, _ = cv2.Rodrigues(self.r2[i])\n",
    "        #     print('Ext1', self.ext1)\n",
    "        #     print('Ext2', self.ext2)\n",
    "\n",
    "        print('')\n",
    "\n",
    "        camera_model = dict([('M1', M1), ('M2', M2), ('dist1', d1),\n",
    "                            ('dist2', d2), ('rvecs1', self.r1),\n",
    "                            ('rvecs2', self.r2), ('R', R), ('T', T),\n",
    "                            ('E', E), ('F', F)])\n",
    "\n",
    "        cv2.destroyAllWindows()\n",
    "        return camera_model\n",
    "\n",
    "if __name__ == '__main__':\n",
    "    parser = argparse.ArgumentParser()\n",
    "    parser.add_argument('filepath', help='String Filepath')\n",
    "    args = parser.parse_args()\n",
    "    cal_data = StereoCalibration(args.filepath)"
   ]
  }
 ],
 "metadata": {
  "kernelspec": {
   "display_name": "Python 3",
   "language": "python",
   "name": "python3"
  },
  "language_info": {
   "codemirror_mode": {
    "name": "ipython",
    "version": 3
   },
   "file_extension": ".py",
   "mimetype": "text/x-python",
   "name": "python",
   "nbconvert_exporter": "python",
   "pygments_lexer": "ipython3",
   "version": "3.6.5"
  }
 },
 "nbformat": 4,
 "nbformat_minor": 2
}
